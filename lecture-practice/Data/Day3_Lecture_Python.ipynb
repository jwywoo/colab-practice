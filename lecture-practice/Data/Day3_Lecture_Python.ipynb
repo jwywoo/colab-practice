{
  "nbformat": 4,
  "nbformat_minor": 0,
  "metadata": {
    "colab": {
      "provenance": []
    },
    "kernelspec": {
      "name": "python3",
      "display_name": "Python 3"
    },
    "language_info": {
      "name": "python"
    }
  },
  "cells": [
    {
      "cell_type": "markdown",
      "source": [
        "## Function/Method: 함수"
      ],
      "metadata": {
        "id": "BxCeZMTt-rBY"
      }
    },
    {
      "cell_type": "code",
      "execution_count": 2,
      "metadata": {
        "colab": {
          "base_uri": "https://localhost:8080/"
        },
        "id": "IdiDav5W-cjC",
        "outputId": "787398b4-9e7f-40b1-c098-6d8f27adecac"
      },
      "outputs": [
        {
          "output_type": "stream",
          "name": "stdout",
          "text": [
            "Hello, Woo\n"
          ]
        }
      ],
      "source": [
        "# Basic fucntion\n",
        "def greet(name):\n",
        "  return f\"Hello, {name}\"\n",
        "print(greet(\"Woo\"))"
      ]
    },
    {
      "cell_type": "code",
      "source": [
        "# labmda\n",
        "square = lambda x : x**2\n",
        "print(square(5))"
      ],
      "metadata": {
        "colab": {
          "base_uri": "https://localhost:8080/"
        },
        "id": "7SF_G8xo_EUJ",
        "outputId": "9d54ade6-832a-4e5d-a77e-abaffbad4fdc"
      },
      "execution_count": 4,
      "outputs": [
        {
          "output_type": "stream",
          "name": "stdout",
          "text": [
            "25\n"
          ]
        }
      ]
    },
    {
      "cell_type": "code",
      "source": [
        "# variable arguments\n",
        "# *args\n",
        "def add(*args):\n",
        "  return sum(args)\n",
        "\n",
        "print(add(1,2,3,4))\n",
        "# **kwargs\n",
        "def introduce(**kwargs):\n",
        "  print(type(kwargs))\n",
        "  for key, value in kwargs.items():\n",
        "    print(f\"{key}: {value}\")\n",
        "introduce(name=\"Alice\", age=30, city=\"Seoul\")"
      ],
      "metadata": {
        "colab": {
          "base_uri": "https://localhost:8080/"
        },
        "id": "Pkdn1yq7AY3X",
        "outputId": "af9e5146-4627-45c9-ec51-c1e1f8b818b9"
      },
      "execution_count": 8,
      "outputs": [
        {
          "output_type": "stream",
          "name": "stdout",
          "text": [
            "10\n",
            "<class 'dict'>\n",
            "name: Alice\n",
            "age: 30\n",
            "city: Seoul\n"
          ]
        }
      ]
    },
    {
      "cell_type": "markdown",
      "source": [
        "## Functional Programming\n",
        "- `map()`\n",
        "- `filter()`\n",
        "- `reduce()`"
      ],
      "metadata": {
        "id": "R5vOMQCsCoQo"
      }
    },
    {
      "cell_type": "code",
      "source": [
        "# map\n",
        "numbers = [1,2,3,4,5]\n",
        "sqaures = list(map(lambda x: x**2, numbers))\n",
        "print(sqaures)\n",
        "\n",
        "# filter\n",
        "numbers = [1,2,3,4,5]\n",
        "evens = list(filter(lambda x: x % 2 == 0, numbers))\n",
        "print(evens)\n",
        "\n",
        "# reduce\n",
        "from functools import reduce\n",
        "numbers = [1, 2, 3, 4]\n",
        "product = reduce(lambda x, y: x * y, numbers)\n",
        "print(product)"
      ],
      "metadata": {
        "colab": {
          "base_uri": "https://localhost:8080/"
        },
        "id": "oTuD3SCYAyfb",
        "outputId": "6fcca8ad-acc6-4598-d62f-b6506ac121c1"
      },
      "execution_count": 12,
      "outputs": [
        {
          "output_type": "stream",
          "name": "stdout",
          "text": [
            "[1, 4, 9, 16, 25]\n",
            "[2, 4]\n",
            "24\n"
          ]
        }
      ]
    },
    {
      "cell_type": "markdown",
      "source": [
        "## Class 클래스\n",
        "- class initilization\n",
        "- class inheritance\n",
        "- Magic Methods\n",
        "- Operands Overloading"
      ],
      "metadata": {
        "id": "Xub2sNjczTIb"
      }
    },
    {
      "cell_type": "code",
      "source": [
        "class Dog:\n",
        "    def __init__(self, name, age):\n",
        "        self.name = name\n",
        "        self.age = age\n",
        "\n",
        "    def bark(self):\n",
        "        return \"Woof!\"\n",
        "\n",
        "# Instance aka Object\n",
        "my_dog = Dog(\"Buddy\", 3)\n",
        "print(my_dog.name)\n",
        "print(my_dog.bark())"
      ],
      "metadata": {
        "colab": {
          "base_uri": "https://localhost:8080/"
        },
        "id": "0T8wj90qzDY6",
        "outputId": "2bf1fe75-7132-4171-93bf-ae0b6f35a964"
      },
      "execution_count": 13,
      "outputs": [
        {
          "output_type": "stream",
          "name": "stdout",
          "text": [
            "Buddy\n",
            "Woof!\n"
          ]
        }
      ]
    },
    {
      "cell_type": "code",
      "source": [
        "# Inheritance\n",
        "class Animal:\n",
        "    def __init__(self, name):\n",
        "        self.name = name\n",
        "\n",
        "    def speak(self):\n",
        "        raise NotImplementedError(\"Subclass must implement abstract method\")\n",
        "\n",
        "class Dog(Animal): # Animal 상속\n",
        "    def speak(self):\n",
        "        return \"Woof!\"\n",
        "\n",
        "class Cat(Animal): # Animal 상속\n",
        "    def speak(self):\n",
        "        return \"Meow!\"\n",
        "\n",
        "animals = [Dog(\"Buddy\"), Cat(\"Whiskers\")]\n",
        "for animal in animals:\n",
        "    print(f\"{animal.name} says {animal.speak()}\")"
      ],
      "metadata": {
        "colab": {
          "base_uri": "https://localhost:8080/"
        },
        "id": "tLsInHnZzYVd",
        "outputId": "68d3dffc-dbac-4f74-c109-5d1fe43b9512"
      },
      "execution_count": 15,
      "outputs": [
        {
          "output_type": "stream",
          "name": "stdout",
          "text": [
            "Buddy says Woof!\n",
            "Whiskers says Meow!\n"
          ]
        }
      ]
    },
    {
      "cell_type": "code",
      "source": [
        "# Magic Methods\n",
        "class Book:\n",
        "    def __init__(self, title, author):\n",
        "        self.title = title\n",
        "        self.author = author\n",
        "\n",
        "    def __str__(self):\n",
        "        return f\"{self.title} by {self.author}\"\n",
        "\n",
        "    def __repr__(self):\n",
        "        return f\"Book({self.title}, {self.author})\"\n",
        "\n",
        "my_book = Book(\"1984\", \"George Orwell\")\n",
        "print(str(my_book))\n",
        "print(repr(my_book))"
      ],
      "metadata": {
        "colab": {
          "base_uri": "https://localhost:8080/"
        },
        "id": "ulBON8bszhXZ",
        "outputId": "0d4f8192-5cc9-405d-d9f8-31e16053d8ee"
      },
      "execution_count": 16,
      "outputs": [
        {
          "output_type": "stream",
          "name": "stdout",
          "text": [
            "1984 by George Orwell\n",
            "Book(1984, George Orwell)\n"
          ]
        }
      ]
    },
    {
      "cell_type": "code",
      "source": [
        "class Vector:\n",
        "    def __init__(self, x, y):\n",
        "        self.x = x\n",
        "        self.y = y\n",
        "\n",
        "    def __add__(self, other):\n",
        "        return Vector(self.x + other.x, self.y + other.y)\n",
        "\n",
        "    def __str__(self):\n",
        "        return f\"Vector({self.x}, {self.y})\"\n",
        "\n",
        "v1 = Vector(2, 3)\n",
        "v2 = Vector(5, 7)\n",
        "v3 = v1 + v2\n",
        "print(v3)"
      ],
      "metadata": {
        "colab": {
          "base_uri": "https://localhost:8080/"
        },
        "id": "crWgalZJ0OXN",
        "outputId": "2f5b356d-7042-42a8-9e79-3ed08babfa44"
      },
      "execution_count": 17,
      "outputs": [
        {
          "output_type": "stream",
          "name": "stdout",
          "text": [
            "Vector(7, 10)\n"
          ]
        }
      ]
    },
    {
      "cell_type": "markdown",
      "source": [
        "## Generator & Iterator\n",
        "- Iterator: Turning an instance into an iterable object(class)\n",
        "- Generator: Function that returns a generator object\n"
      ],
      "metadata": {
        "id": "MSYHM_560Uux"
      }
    },
    {
      "cell_type": "code",
      "source": [
        "# Iterator\n",
        "class Counter:\n",
        "    def __init__(self, max):\n",
        "        self.max = max\n",
        "        self.current = 0\n",
        "\n",
        "    def __iter__(self):\n",
        "        return self\n",
        "\n",
        "    def __next__(self):\n",
        "        if self.current < self.max:\n",
        "            self.current += 1\n",
        "            return self.current\n",
        "        else:\n",
        "            raise StopIteration\n",
        "\n",
        "counter = Counter(5)\n",
        "\n",
        "for num in counter:\n",
        "    print(num)"
      ],
      "metadata": {
        "colab": {
          "base_uri": "https://localhost:8080/"
        },
        "id": "v6AJzYn50kje",
        "outputId": "a23c2f66-f714-4074-baa9-6705a6be55cf"
      },
      "execution_count": 20,
      "outputs": [
        {
          "output_type": "stream",
          "name": "stdout",
          "text": [
            "1\n",
            "2\n",
            "3\n",
            "4\n",
            "5\n"
          ]
        }
      ]
    },
    {
      "cell_type": "code",
      "source": [
        "# Generator\n",
        "def count_up_to(max):\n",
        "  count = 1\n",
        "  while count <= max:\n",
        "    yield count\n",
        "    count+=1\n",
        "\n",
        "counter = count_up_to(10)\n",
        "\n",
        "for num in counter:\n",
        "  print(num)\n",
        "\n",
        "\n",
        "# yield -> return a value from a function and pause the execution until next() is called\n",
        "def simple_generator():\n",
        "    yield 1\n",
        "    yield 2\n",
        "    yield 3\n",
        "\n",
        "gen = simple_generator()\n",
        "print(next(gen))\n",
        "print(next(gen))\n",
        "print(next(gen))"
      ],
      "metadata": {
        "colab": {
          "base_uri": "https://localhost:8080/"
        },
        "id": "jCZdCab21iNg",
        "outputId": "298d2ac6-841b-4206-f9a4-a965253a9937"
      },
      "execution_count": 22,
      "outputs": [
        {
          "output_type": "stream",
          "name": "stdout",
          "text": [
            "1\n",
            "2\n",
            "3\n",
            "4\n",
            "5\n",
            "6\n",
            "7\n",
            "8\n",
            "9\n",
            "10\n",
            "1\n",
            "2\n",
            "3\n"
          ]
        }
      ]
    },
    {
      "cell_type": "code",
      "source": [],
      "metadata": {
        "id": "5Nl47qTB1xqX"
      },
      "execution_count": null,
      "outputs": []
    }
  ]
}