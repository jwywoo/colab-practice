{
  "nbformat": 4,
  "nbformat_minor": 0,
  "metadata": {
    "colab": {
      "provenance": []
    },
    "kernelspec": {
      "name": "python3",
      "display_name": "Python 3"
    },
    "language_info": {
      "name": "python"
    }
  },
  "cells": [
    {
      "cell_type": "markdown",
      "source": [
        "## Kaggle - Dataset container\n",
        "https://www.kaggle.com"
      ],
      "metadata": {
        "id": "P9f_Be466pJZ"
      }
    },
    {
      "cell_type": "markdown",
      "source": [
        "### Kaggle Installation"
      ],
      "metadata": {
        "id": "sKwOw0o464QE"
      }
    },
    {
      "cell_type": "code",
      "execution_count": 34,
      "metadata": {
        "colab": {
          "base_uri": "https://localhost:8080/"
        },
        "id": "vj5dojvv6fwx",
        "outputId": "a9527643-ae07-4ef0-c6a2-35712e1a522e"
      },
      "outputs": [
        {
          "output_type": "stream",
          "name": "stdout",
          "text": [
            "Requirement already satisfied: kaggle in /usr/local/lib/python3.10/dist-packages (1.6.14)\n",
            "Requirement already satisfied: six>=1.10 in /usr/local/lib/python3.10/dist-packages (from kaggle) (1.16.0)\n",
            "Requirement already satisfied: certifi>=2023.7.22 in /usr/local/lib/python3.10/dist-packages (from kaggle) (2024.6.2)\n",
            "Requirement already satisfied: python-dateutil in /usr/local/lib/python3.10/dist-packages (from kaggle) (2.8.2)\n",
            "Requirement already satisfied: requests in /usr/local/lib/python3.10/dist-packages (from kaggle) (2.31.0)\n",
            "Requirement already satisfied: tqdm in /usr/local/lib/python3.10/dist-packages (from kaggle) (4.66.4)\n",
            "Requirement already satisfied: python-slugify in /usr/local/lib/python3.10/dist-packages (from kaggle) (8.0.4)\n",
            "Requirement already satisfied: urllib3 in /usr/local/lib/python3.10/dist-packages (from kaggle) (2.0.7)\n",
            "Requirement already satisfied: bleach in /usr/local/lib/python3.10/dist-packages (from kaggle) (6.1.0)\n",
            "Requirement already satisfied: webencodings in /usr/local/lib/python3.10/dist-packages (from bleach->kaggle) (0.5.1)\n",
            "Requirement already satisfied: text-unidecode>=1.3 in /usr/local/lib/python3.10/dist-packages (from python-slugify->kaggle) (1.3)\n",
            "Requirement already satisfied: charset-normalizer<4,>=2 in /usr/local/lib/python3.10/dist-packages (from requests->kaggle) (3.3.2)\n",
            "Requirement already satisfied: idna<4,>=2.5 in /usr/local/lib/python3.10/dist-packages (from requests->kaggle) (3.7)\n"
          ]
        }
      ],
      "source": [
        "!pip install kaggle"
      ]
    },
    {
      "cell_type": "code",
      "source": [
        "!kaggle datasets download -d rabieelkharoua/predict-customer-purchase-behavior-dataset"
      ],
      "metadata": {
        "colab": {
          "base_uri": "https://localhost:8080/"
        },
        "id": "hD4FSOU569Nz",
        "outputId": "392721db-77ce-4cb3-98cf-7ca6fc1f33b5"
      },
      "execution_count": 35,
      "outputs": [
        {
          "output_type": "stream",
          "name": "stdout",
          "text": [
            "Dataset URL: https://www.kaggle.com/datasets/rabieelkharoua/predict-customer-purchase-behavior-dataset\n",
            "License(s): Attribution 4.0 International (CC BY 4.0)\n",
            "predict-customer-purchase-behavior-dataset.zip: Skipping, found more recently modified local copy (use --force to force download)\n"
          ]
        }
      ]
    },
    {
      "cell_type": "code",
      "source": [
        "!unzip predict-customer-purchase-behavior-dataset.zip"
      ],
      "metadata": {
        "colab": {
          "base_uri": "https://localhost:8080/"
        },
        "id": "tAoDqV4i7F8U",
        "outputId": "424091a1-bd07-46a1-e734-647b6d56f890"
      },
      "execution_count": 36,
      "outputs": [
        {
          "output_type": "stream",
          "name": "stdout",
          "text": [
            "Archive:  predict-customer-purchase-behavior-dataset.zip\n",
            "replace customer_purchase_data.csv? [y]es, [n]o, [A]ll, [N]one, [r]ename: "
          ]
        }
      ]
    },
    {
      "cell_type": "markdown",
      "source": [
        "## Pandas\n",
        "Import and load CSV file"
      ],
      "metadata": {
        "id": "bSFf-_U37Lvt"
      }
    },
    {
      "cell_type": "code",
      "source": [
        "import pandas as pd\n",
        "\n",
        "data = pd.read_csv('customer_purchase_data.csv')"
      ],
      "metadata": {
        "id": "6z_9DNWa7IVJ"
      },
      "execution_count": 98,
      "outputs": []
    },
    {
      "cell_type": "markdown",
      "source": [
        "## Pandas Basic Commands"
      ],
      "metadata": {
        "id": "NNCNUgKW8TWc"
      }
    },
    {
      "cell_type": "code",
      "source": [
        "# info(): Datastructure\n",
        "data.info()\n",
        "# .head(): Data sample check\n",
        "data.head(5)\n",
        "# . describe(): Data Summary\n",
        "data.describe()\n",
        "# missing value check: Check by column\n",
        "missing_values = data.isnull().sum()\n",
        "print(\"Missing values in each column: \\n\", missing_values)"
      ],
      "metadata": {
        "colab": {
          "base_uri": "https://localhost:8080/"
        },
        "id": "5eM6HIQZ8TIK",
        "outputId": "a0306047-a005-4ec4-af6c-6414b6de5c18"
      },
      "execution_count": 84,
      "outputs": [
        {
          "output_type": "stream",
          "name": "stdout",
          "text": [
            "<class 'pandas.core.frame.DataFrame'>\n",
            "RangeIndex: 1500 entries, 0 to 1499\n",
            "Data columns (total 9 columns):\n",
            " #   Column              Non-Null Count  Dtype  \n",
            "---  ------              --------------  -----  \n",
            " 0   Age                 1500 non-null   object \n",
            " 1   Gender              1500 non-null   int64  \n",
            " 2   AnnualIncome        1500 non-null   float64\n",
            " 3   NumberOfPurchases   1500 non-null   int64  \n",
            " 4   ProductCategory     1500 non-null   int64  \n",
            " 5   TimeSpentOnWebsite  1500 non-null   float64\n",
            " 6   LoyaltyProgram      1500 non-null   int64  \n",
            " 7   DiscountsAvailed    1500 non-null   int64  \n",
            " 8   PurchaseStatus      1500 non-null   int64  \n",
            "dtypes: float64(2), int64(6), object(1)\n",
            "memory usage: 105.6+ KB\n",
            "Missing values in each column: \n",
            " Age                   0\n",
            "Gender                0\n",
            "AnnualIncome          0\n",
            "NumberOfPurchases     0\n",
            "ProductCategory       0\n",
            "TimeSpentOnWebsite    0\n",
            "LoyaltyProgram        0\n",
            "DiscountsAvailed      0\n",
            "PurchaseStatus        0\n",
            "dtype: int64\n"
          ]
        }
      ]
    },
    {
      "cell_type": "markdown",
      "source": [
        "## Missing Value Handling"
      ],
      "metadata": {
        "id": "5G1Vybs-8qqX"
      }
    },
    {
      "cell_type": "code",
      "source": [
        "import numpy as np\n",
        "# 결측값 변환 함수\n",
        "def add_missing_values(df, col_name, missing_frac):\n",
        "    \"\"\"\n",
        "    특정 열에 지정된 비율의 결측값을 추가합니다.\n",
        "\n",
        "    :param df: 데이터프레임\n",
        "    :param col_name: 결측값을 추가할 열 이름\n",
        "    :param missing_frac: 결측값 비율 (0.0 ~ 1.0)\n",
        "    \"\"\"\n",
        "    np.random.seed(42)  # 재현성을 위해 랜덤 시드 설정\n",
        "    n_rows = df.shape[0] # 데이터프레임의 행 수\n",
        "    n_missing = int(n_rows * missing_frac) # 결측값을 추가할 행의 수를 계산\n",
        "\n",
        "    missing_indices = np.random.choice(n_rows, n_missing, replace=False) # 결측값을 추가할 행의 인덱스를 무작위로 선택\n",
        "    df.loc[missing_indices, col_name] = np.nan # 선택된 인덱스의 열 값을 NaN으로 설정\n",
        "\n",
        "add_missing_values(data, 'Age', 0.1)  # Age 열에 10% 결측값 추가\n",
        "add_missing_values(data, 'Gender', 0.1)  # Gender 열에 10% 결측값 추가\n",
        "\n",
        "print(\"Data with missing values:\\n\", data.tail(10))\n",
        "print(\"Missing values count:\\n\", data.isnull().sum())"
      ],
      "metadata": {
        "colab": {
          "base_uri": "https://localhost:8080/"
        },
        "id": "LMJrlvA18wQP",
        "outputId": "f4daf26b-2e05-44ff-c409-fb2841ec4cb5"
      },
      "execution_count": 77,
      "outputs": [
        {
          "output_type": "stream",
          "name": "stdout",
          "text": [
            "Data with missing values:\n",
            "        Age  Gender   AnnualIncome  NumberOfPurchases  ProductCategory  \\\n",
            "1490   NaN     NaN   83126.660956                 20                3   \n",
            "1491   NaN     NaN   71611.955361                 20                1   \n",
            "1492  63.0     0.0   71874.591294                 10                2   \n",
            "1493  34.0     1.0   20418.374269                  9                1   \n",
            "1494  34.0     1.0  104649.186035                 14                1   \n",
            "1495  39.0     1.0   65048.141834                 13                0   \n",
            "1496  67.0     1.0   28775.331069                 18                2   \n",
            "1497  40.0     1.0   57363.247541                  7                4   \n",
            "1498  63.0     0.0  134021.775532                 16                2   \n",
            "1499  50.0     0.0   52625.665974                 13                0   \n",
            "\n",
            "      TimeSpentOnWebsite  LoyaltyProgram  DiscountsAvailed  PurchaseStatus  \n",
            "1490            2.280306               0                 1               0  \n",
            "1491           38.681686               0                 5               1  \n",
            "1492           43.546243               0                 1               0  \n",
            "1493           54.459955               0                 0               0  \n",
            "1494           28.998117               0                 1               0  \n",
            "1495           34.590743               0                 5               1  \n",
            "1496           17.625707               0                 1               1  \n",
            "1497           12.206033               0                 0               0  \n",
            "1498           37.311634               1                 0               1  \n",
            "1499           25.348017               1                 4               1  \n",
            "Missing values count:\n",
            " Age                   150\n",
            "Gender                150\n",
            "AnnualIncome            0\n",
            "NumberOfPurchases       0\n",
            "ProductCategory         0\n",
            "TimeSpentOnWebsite      0\n",
            "LoyaltyProgram          0\n",
            "DiscountsAvailed        0\n",
            "PurchaseStatus          0\n",
            "dtype: int64\n"
          ]
        }
      ]
    },
    {
      "cell_type": "code",
      "source": [
        "# Missing value handling using avg\n",
        "# .mean()\n",
        "data['Age'].mean()\n",
        "data['Age'].fillna(data['Age'].mean, inplace=True)\n",
        "\n",
        "# .tail() from bottom\n",
        "data.tail(10)"
      ],
      "metadata": {
        "colab": {
          "base_uri": "https://localhost:8080/",
          "height": 418
        },
        "id": "Lg7i8NO_gdPu",
        "outputId": "1fed4704-aca4-4194-ef7a-bf69126d212a"
      },
      "execution_count": 78,
      "outputs": [
        {
          "output_type": "execute_result",
          "data": {
            "text/plain": [
              "                                                    Age  Gender  \\\n",
              "1490  <bound method NDFrame._add_numeric_operations....     NaN   \n",
              "1491  <bound method NDFrame._add_numeric_operations....     NaN   \n",
              "1492                                               63.0     0.0   \n",
              "1493                                               34.0     1.0   \n",
              "1494                                               34.0     1.0   \n",
              "1495                                               39.0     1.0   \n",
              "1496                                               67.0     1.0   \n",
              "1497                                               40.0     1.0   \n",
              "1498                                               63.0     0.0   \n",
              "1499                                               50.0     0.0   \n",
              "\n",
              "       AnnualIncome  NumberOfPurchases  ProductCategory  TimeSpentOnWebsite  \\\n",
              "1490   83126.660956                 20                3            2.280306   \n",
              "1491   71611.955361                 20                1           38.681686   \n",
              "1492   71874.591294                 10                2           43.546243   \n",
              "1493   20418.374269                  9                1           54.459955   \n",
              "1494  104649.186035                 14                1           28.998117   \n",
              "1495   65048.141834                 13                0           34.590743   \n",
              "1496   28775.331069                 18                2           17.625707   \n",
              "1497   57363.247541                  7                4           12.206033   \n",
              "1498  134021.775532                 16                2           37.311634   \n",
              "1499   52625.665974                 13                0           25.348017   \n",
              "\n",
              "      LoyaltyProgram  DiscountsAvailed  PurchaseStatus  \n",
              "1490               0                 1               0  \n",
              "1491               0                 5               1  \n",
              "1492               0                 1               0  \n",
              "1493               0                 0               0  \n",
              "1494               0                 1               0  \n",
              "1495               0                 5               1  \n",
              "1496               0                 1               1  \n",
              "1497               0                 0               0  \n",
              "1498               1                 0               1  \n",
              "1499               1                 4               1  "
            ],
            "text/html": [
              "\n",
              "  <div id=\"df-7aa5b8ac-e382-4952-bca9-1805080677a4\" class=\"colab-df-container\">\n",
              "    <div>\n",
              "<style scoped>\n",
              "    .dataframe tbody tr th:only-of-type {\n",
              "        vertical-align: middle;\n",
              "    }\n",
              "\n",
              "    .dataframe tbody tr th {\n",
              "        vertical-align: top;\n",
              "    }\n",
              "\n",
              "    .dataframe thead th {\n",
              "        text-align: right;\n",
              "    }\n",
              "</style>\n",
              "<table border=\"1\" class=\"dataframe\">\n",
              "  <thead>\n",
              "    <tr style=\"text-align: right;\">\n",
              "      <th></th>\n",
              "      <th>Age</th>\n",
              "      <th>Gender</th>\n",
              "      <th>AnnualIncome</th>\n",
              "      <th>NumberOfPurchases</th>\n",
              "      <th>ProductCategory</th>\n",
              "      <th>TimeSpentOnWebsite</th>\n",
              "      <th>LoyaltyProgram</th>\n",
              "      <th>DiscountsAvailed</th>\n",
              "      <th>PurchaseStatus</th>\n",
              "    </tr>\n",
              "  </thead>\n",
              "  <tbody>\n",
              "    <tr>\n",
              "      <th>1490</th>\n",
              "      <td>&lt;bound method NDFrame._add_numeric_operations....</td>\n",
              "      <td>NaN</td>\n",
              "      <td>83126.660956</td>\n",
              "      <td>20</td>\n",
              "      <td>3</td>\n",
              "      <td>2.280306</td>\n",
              "      <td>0</td>\n",
              "      <td>1</td>\n",
              "      <td>0</td>\n",
              "    </tr>\n",
              "    <tr>\n",
              "      <th>1491</th>\n",
              "      <td>&lt;bound method NDFrame._add_numeric_operations....</td>\n",
              "      <td>NaN</td>\n",
              "      <td>71611.955361</td>\n",
              "      <td>20</td>\n",
              "      <td>1</td>\n",
              "      <td>38.681686</td>\n",
              "      <td>0</td>\n",
              "      <td>5</td>\n",
              "      <td>1</td>\n",
              "    </tr>\n",
              "    <tr>\n",
              "      <th>1492</th>\n",
              "      <td>63.0</td>\n",
              "      <td>0.0</td>\n",
              "      <td>71874.591294</td>\n",
              "      <td>10</td>\n",
              "      <td>2</td>\n",
              "      <td>43.546243</td>\n",
              "      <td>0</td>\n",
              "      <td>1</td>\n",
              "      <td>0</td>\n",
              "    </tr>\n",
              "    <tr>\n",
              "      <th>1493</th>\n",
              "      <td>34.0</td>\n",
              "      <td>1.0</td>\n",
              "      <td>20418.374269</td>\n",
              "      <td>9</td>\n",
              "      <td>1</td>\n",
              "      <td>54.459955</td>\n",
              "      <td>0</td>\n",
              "      <td>0</td>\n",
              "      <td>0</td>\n",
              "    </tr>\n",
              "    <tr>\n",
              "      <th>1494</th>\n",
              "      <td>34.0</td>\n",
              "      <td>1.0</td>\n",
              "      <td>104649.186035</td>\n",
              "      <td>14</td>\n",
              "      <td>1</td>\n",
              "      <td>28.998117</td>\n",
              "      <td>0</td>\n",
              "      <td>1</td>\n",
              "      <td>0</td>\n",
              "    </tr>\n",
              "    <tr>\n",
              "      <th>1495</th>\n",
              "      <td>39.0</td>\n",
              "      <td>1.0</td>\n",
              "      <td>65048.141834</td>\n",
              "      <td>13</td>\n",
              "      <td>0</td>\n",
              "      <td>34.590743</td>\n",
              "      <td>0</td>\n",
              "      <td>5</td>\n",
              "      <td>1</td>\n",
              "    </tr>\n",
              "    <tr>\n",
              "      <th>1496</th>\n",
              "      <td>67.0</td>\n",
              "      <td>1.0</td>\n",
              "      <td>28775.331069</td>\n",
              "      <td>18</td>\n",
              "      <td>2</td>\n",
              "      <td>17.625707</td>\n",
              "      <td>0</td>\n",
              "      <td>1</td>\n",
              "      <td>1</td>\n",
              "    </tr>\n",
              "    <tr>\n",
              "      <th>1497</th>\n",
              "      <td>40.0</td>\n",
              "      <td>1.0</td>\n",
              "      <td>57363.247541</td>\n",
              "      <td>7</td>\n",
              "      <td>4</td>\n",
              "      <td>12.206033</td>\n",
              "      <td>0</td>\n",
              "      <td>0</td>\n",
              "      <td>0</td>\n",
              "    </tr>\n",
              "    <tr>\n",
              "      <th>1498</th>\n",
              "      <td>63.0</td>\n",
              "      <td>0.0</td>\n",
              "      <td>134021.775532</td>\n",
              "      <td>16</td>\n",
              "      <td>2</td>\n",
              "      <td>37.311634</td>\n",
              "      <td>1</td>\n",
              "      <td>0</td>\n",
              "      <td>1</td>\n",
              "    </tr>\n",
              "    <tr>\n",
              "      <th>1499</th>\n",
              "      <td>50.0</td>\n",
              "      <td>0.0</td>\n",
              "      <td>52625.665974</td>\n",
              "      <td>13</td>\n",
              "      <td>0</td>\n",
              "      <td>25.348017</td>\n",
              "      <td>1</td>\n",
              "      <td>4</td>\n",
              "      <td>1</td>\n",
              "    </tr>\n",
              "  </tbody>\n",
              "</table>\n",
              "</div>\n",
              "    <div class=\"colab-df-buttons\">\n",
              "\n",
              "  <div class=\"colab-df-container\">\n",
              "    <button class=\"colab-df-convert\" onclick=\"convertToInteractive('df-7aa5b8ac-e382-4952-bca9-1805080677a4')\"\n",
              "            title=\"Convert this dataframe to an interactive table.\"\n",
              "            style=\"display:none;\">\n",
              "\n",
              "  <svg xmlns=\"http://www.w3.org/2000/svg\" height=\"24px\" viewBox=\"0 -960 960 960\">\n",
              "    <path d=\"M120-120v-720h720v720H120Zm60-500h600v-160H180v160Zm220 220h160v-160H400v160Zm0 220h160v-160H400v160ZM180-400h160v-160H180v160Zm440 0h160v-160H620v160ZM180-180h160v-160H180v160Zm440 0h160v-160H620v160Z\"/>\n",
              "  </svg>\n",
              "    </button>\n",
              "\n",
              "  <style>\n",
              "    .colab-df-container {\n",
              "      display:flex;\n",
              "      gap: 12px;\n",
              "    }\n",
              "\n",
              "    .colab-df-convert {\n",
              "      background-color: #E8F0FE;\n",
              "      border: none;\n",
              "      border-radius: 50%;\n",
              "      cursor: pointer;\n",
              "      display: none;\n",
              "      fill: #1967D2;\n",
              "      height: 32px;\n",
              "      padding: 0 0 0 0;\n",
              "      width: 32px;\n",
              "    }\n",
              "\n",
              "    .colab-df-convert:hover {\n",
              "      background-color: #E2EBFA;\n",
              "      box-shadow: 0px 1px 2px rgba(60, 64, 67, 0.3), 0px 1px 3px 1px rgba(60, 64, 67, 0.15);\n",
              "      fill: #174EA6;\n",
              "    }\n",
              "\n",
              "    .colab-df-buttons div {\n",
              "      margin-bottom: 4px;\n",
              "    }\n",
              "\n",
              "    [theme=dark] .colab-df-convert {\n",
              "      background-color: #3B4455;\n",
              "      fill: #D2E3FC;\n",
              "    }\n",
              "\n",
              "    [theme=dark] .colab-df-convert:hover {\n",
              "      background-color: #434B5C;\n",
              "      box-shadow: 0px 1px 3px 1px rgba(0, 0, 0, 0.15);\n",
              "      filter: drop-shadow(0px 1px 2px rgba(0, 0, 0, 0.3));\n",
              "      fill: #FFFFFF;\n",
              "    }\n",
              "  </style>\n",
              "\n",
              "    <script>\n",
              "      const buttonEl =\n",
              "        document.querySelector('#df-7aa5b8ac-e382-4952-bca9-1805080677a4 button.colab-df-convert');\n",
              "      buttonEl.style.display =\n",
              "        google.colab.kernel.accessAllowed ? 'block' : 'none';\n",
              "\n",
              "      async function convertToInteractive(key) {\n",
              "        const element = document.querySelector('#df-7aa5b8ac-e382-4952-bca9-1805080677a4');\n",
              "        const dataTable =\n",
              "          await google.colab.kernel.invokeFunction('convertToInteractive',\n",
              "                                                    [key], {});\n",
              "        if (!dataTable) return;\n",
              "\n",
              "        const docLinkHtml = 'Like what you see? Visit the ' +\n",
              "          '<a target=\"_blank\" href=https://colab.research.google.com/notebooks/data_table.ipynb>data table notebook</a>'\n",
              "          + ' to learn more about interactive tables.';\n",
              "        element.innerHTML = '';\n",
              "        dataTable['output_type'] = 'display_data';\n",
              "        await google.colab.output.renderOutput(dataTable, element);\n",
              "        const docLink = document.createElement('div');\n",
              "        docLink.innerHTML = docLinkHtml;\n",
              "        element.appendChild(docLink);\n",
              "      }\n",
              "    </script>\n",
              "  </div>\n",
              "\n",
              "\n",
              "<div id=\"df-e9fa078c-0b50-4457-870b-9a3e1b930859\">\n",
              "  <button class=\"colab-df-quickchart\" onclick=\"quickchart('df-e9fa078c-0b50-4457-870b-9a3e1b930859')\"\n",
              "            title=\"Suggest charts\"\n",
              "            style=\"display:none;\">\n",
              "\n",
              "<svg xmlns=\"http://www.w3.org/2000/svg\" height=\"24px\"viewBox=\"0 0 24 24\"\n",
              "     width=\"24px\">\n",
              "    <g>\n",
              "        <path d=\"M19 3H5c-1.1 0-2 .9-2 2v14c0 1.1.9 2 2 2h14c1.1 0 2-.9 2-2V5c0-1.1-.9-2-2-2zM9 17H7v-7h2v7zm4 0h-2V7h2v10zm4 0h-2v-4h2v4z\"/>\n",
              "    </g>\n",
              "</svg>\n",
              "  </button>\n",
              "\n",
              "<style>\n",
              "  .colab-df-quickchart {\n",
              "      --bg-color: #E8F0FE;\n",
              "      --fill-color: #1967D2;\n",
              "      --hover-bg-color: #E2EBFA;\n",
              "      --hover-fill-color: #174EA6;\n",
              "      --disabled-fill-color: #AAA;\n",
              "      --disabled-bg-color: #DDD;\n",
              "  }\n",
              "\n",
              "  [theme=dark] .colab-df-quickchart {\n",
              "      --bg-color: #3B4455;\n",
              "      --fill-color: #D2E3FC;\n",
              "      --hover-bg-color: #434B5C;\n",
              "      --hover-fill-color: #FFFFFF;\n",
              "      --disabled-bg-color: #3B4455;\n",
              "      --disabled-fill-color: #666;\n",
              "  }\n",
              "\n",
              "  .colab-df-quickchart {\n",
              "    background-color: var(--bg-color);\n",
              "    border: none;\n",
              "    border-radius: 50%;\n",
              "    cursor: pointer;\n",
              "    display: none;\n",
              "    fill: var(--fill-color);\n",
              "    height: 32px;\n",
              "    padding: 0;\n",
              "    width: 32px;\n",
              "  }\n",
              "\n",
              "  .colab-df-quickchart:hover {\n",
              "    background-color: var(--hover-bg-color);\n",
              "    box-shadow: 0 1px 2px rgba(60, 64, 67, 0.3), 0 1px 3px 1px rgba(60, 64, 67, 0.15);\n",
              "    fill: var(--button-hover-fill-color);\n",
              "  }\n",
              "\n",
              "  .colab-df-quickchart-complete:disabled,\n",
              "  .colab-df-quickchart-complete:disabled:hover {\n",
              "    background-color: var(--disabled-bg-color);\n",
              "    fill: var(--disabled-fill-color);\n",
              "    box-shadow: none;\n",
              "  }\n",
              "\n",
              "  .colab-df-spinner {\n",
              "    border: 2px solid var(--fill-color);\n",
              "    border-color: transparent;\n",
              "    border-bottom-color: var(--fill-color);\n",
              "    animation:\n",
              "      spin 1s steps(1) infinite;\n",
              "  }\n",
              "\n",
              "  @keyframes spin {\n",
              "    0% {\n",
              "      border-color: transparent;\n",
              "      border-bottom-color: var(--fill-color);\n",
              "      border-left-color: var(--fill-color);\n",
              "    }\n",
              "    20% {\n",
              "      border-color: transparent;\n",
              "      border-left-color: var(--fill-color);\n",
              "      border-top-color: var(--fill-color);\n",
              "    }\n",
              "    30% {\n",
              "      border-color: transparent;\n",
              "      border-left-color: var(--fill-color);\n",
              "      border-top-color: var(--fill-color);\n",
              "      border-right-color: var(--fill-color);\n",
              "    }\n",
              "    40% {\n",
              "      border-color: transparent;\n",
              "      border-right-color: var(--fill-color);\n",
              "      border-top-color: var(--fill-color);\n",
              "    }\n",
              "    60% {\n",
              "      border-color: transparent;\n",
              "      border-right-color: var(--fill-color);\n",
              "    }\n",
              "    80% {\n",
              "      border-color: transparent;\n",
              "      border-right-color: var(--fill-color);\n",
              "      border-bottom-color: var(--fill-color);\n",
              "    }\n",
              "    90% {\n",
              "      border-color: transparent;\n",
              "      border-bottom-color: var(--fill-color);\n",
              "    }\n",
              "  }\n",
              "</style>\n",
              "\n",
              "  <script>\n",
              "    async function quickchart(key) {\n",
              "      const quickchartButtonEl =\n",
              "        document.querySelector('#' + key + ' button');\n",
              "      quickchartButtonEl.disabled = true;  // To prevent multiple clicks.\n",
              "      quickchartButtonEl.classList.add('colab-df-spinner');\n",
              "      try {\n",
              "        const charts = await google.colab.kernel.invokeFunction(\n",
              "            'suggestCharts', [key], {});\n",
              "      } catch (error) {\n",
              "        console.error('Error during call to suggestCharts:', error);\n",
              "      }\n",
              "      quickchartButtonEl.classList.remove('colab-df-spinner');\n",
              "      quickchartButtonEl.classList.add('colab-df-quickchart-complete');\n",
              "    }\n",
              "    (() => {\n",
              "      let quickchartButtonEl =\n",
              "        document.querySelector('#df-e9fa078c-0b50-4457-870b-9a3e1b930859 button');\n",
              "      quickchartButtonEl.style.display =\n",
              "        google.colab.kernel.accessAllowed ? 'block' : 'none';\n",
              "    })();\n",
              "  </script>\n",
              "</div>\n",
              "\n",
              "    </div>\n",
              "  </div>\n"
            ],
            "application/vnd.google.colaboratory.intrinsic+json": {
              "type": "dataframe",
              "summary": "{\n  \"name\": \"data\",\n  \"rows\": 10,\n  \"fields\": [\n    {\n      \"column\": \"Age\",\n      \"properties\": {\n        \"dtype\": \"string\",\n        \"num_unique_values\": 7,\n        \"samples\": [\n          \"<bound method NDFrame._add_numeric_operations.<locals>.mean of 0       40.0\\n1       20.0\\n2       27.0\\n3       24.0\\n4       31.0\\n        ... \\n1495    39.0\\n1496    67.0\\n1497    40.0\\n1498    63.0\\n1499    50.0\\nName: Age, Length: 1500, dtype: object>\",\n          63.0,\n          40.0\n        ],\n        \"semantic_type\": \"\",\n        \"description\": \"\"\n      }\n    },\n    {\n      \"column\": \"Gender\",\n      \"properties\": {\n        \"dtype\": \"number\",\n        \"std\": 0.5175491695067657,\n        \"min\": 0.0,\n        \"max\": 1.0,\n        \"num_unique_values\": 2,\n        \"samples\": [\n          1.0,\n          0.0\n        ],\n        \"semantic_type\": \"\",\n        \"description\": \"\"\n      }\n    },\n    {\n      \"column\": \"AnnualIncome\",\n      \"properties\": {\n        \"dtype\": \"number\",\n        \"std\": 33517.27368845378,\n        \"min\": 20418.37426855623,\n        \"max\": 134021.77553236455,\n        \"num_unique_values\": 10,\n        \"samples\": [\n          134021.77553236455,\n          71611.95536083492\n        ],\n        \"semantic_type\": \"\",\n        \"description\": \"\"\n      }\n    },\n    {\n      \"column\": \"NumberOfPurchases\",\n      \"properties\": {\n        \"dtype\": \"number\",\n        \"std\": 4,\n        \"min\": 7,\n        \"max\": 20,\n        \"num_unique_values\": 8,\n        \"samples\": [\n          10,\n          18\n        ],\n        \"semantic_type\": \"\",\n        \"description\": \"\"\n      }\n    },\n    {\n      \"column\": \"ProductCategory\",\n      \"properties\": {\n        \"dtype\": \"number\",\n        \"std\": 1,\n        \"min\": 0,\n        \"max\": 4,\n        \"num_unique_values\": 5,\n        \"samples\": [\n          1,\n          4\n        ],\n        \"semantic_type\": \"\",\n        \"description\": \"\"\n      }\n    },\n    {\n      \"column\": \"TimeSpentOnWebsite\",\n      \"properties\": {\n        \"dtype\": \"number\",\n        \"std\": 15.599214405447572,\n        \"min\": 2.2803056212569555,\n        \"max\": 54.45995479214512,\n        \"num_unique_values\": 10,\n        \"samples\": [\n          37.31163380267996,\n          38.68168553110391\n        ],\n        \"semantic_type\": \"\",\n        \"description\": \"\"\n      }\n    },\n    {\n      \"column\": \"LoyaltyProgram\",\n      \"properties\": {\n        \"dtype\": \"number\",\n        \"std\": 0,\n        \"min\": 0,\n        \"max\": 1,\n        \"num_unique_values\": 2,\n        \"samples\": [\n          1,\n          0\n        ],\n        \"semantic_type\": \"\",\n        \"description\": \"\"\n      }\n    },\n    {\n      \"column\": \"DiscountsAvailed\",\n      \"properties\": {\n        \"dtype\": \"number\",\n        \"std\": 2,\n        \"min\": 0,\n        \"max\": 5,\n        \"num_unique_values\": 4,\n        \"samples\": [\n          5,\n          4\n        ],\n        \"semantic_type\": \"\",\n        \"description\": \"\"\n      }\n    },\n    {\n      \"column\": \"PurchaseStatus\",\n      \"properties\": {\n        \"dtype\": \"number\",\n        \"std\": 0,\n        \"min\": 0,\n        \"max\": 1,\n        \"num_unique_values\": 2,\n        \"samples\": [\n          1,\n          0\n        ],\n        \"semantic_type\": \"\",\n        \"description\": \"\"\n      }\n    }\n  ]\n}"
            }
          },
          "metadata": {},
          "execution_count": 78
        }
      ]
    },
    {
      "cell_type": "code",
      "source": [
        "# Missing Value Handling - Categorical Data Preprocessing with lowest value\n",
        "# .mode() returning lowest value of each column in a dataframe\n",
        "print(data['Gender'].mode()[0])\n",
        "data['Gender'].fillna(data['Gender'].mode()[0], inplace=True)\n",
        "print(\"Missing values count:\\n\", data.isnull().sum())\n",
        "data['Gender'].head()\n",
        "data['Gender'] = ['Male' if gender == 0 else 'Female' for gender in data['Gender']]\n",
        "data['Gender'].head()"
      ],
      "metadata": {
        "colab": {
          "base_uri": "https://localhost:8080/"
        },
        "id": "LSCCO9w3hNEF",
        "outputId": "da49cb1e-159b-4242-ddb4-85ac4092cb70"
      },
      "execution_count": 79,
      "outputs": [
        {
          "output_type": "stream",
          "name": "stdout",
          "text": [
            "0.0\n",
            "Missing values count:\n",
            " Age                   0\n",
            "Gender                0\n",
            "AnnualIncome          0\n",
            "NumberOfPurchases     0\n",
            "ProductCategory       0\n",
            "TimeSpentOnWebsite    0\n",
            "LoyaltyProgram        0\n",
            "DiscountsAvailed      0\n",
            "PurchaseStatus        0\n",
            "dtype: int64\n"
          ]
        },
        {
          "output_type": "execute_result",
          "data": {
            "text/plain": [
              "0    Female\n",
              "1    Female\n",
              "2    Female\n",
              "3    Female\n",
              "4    Female\n",
              "Name: Gender, dtype: object"
            ]
          },
          "metadata": {},
          "execution_count": 79
        }
      ]
    },
    {
      "cell_type": "markdown",
      "source": [
        "## Encoding: Categorical Data"
      ],
      "metadata": {
        "id": "GvXvZcnOzdSV"
      }
    },
    {
      "cell_type": "code",
      "source": [
        "from sklearn.preprocessing import LabelEncoder\n",
        "le = LabelEncoder()\n",
        "print(data['Gender'].head())\n",
        "data['Gender'] = le.fit_transform(data['Gender'])\n",
        "print(data['Gender'].head())"
      ],
      "metadata": {
        "colab": {
          "base_uri": "https://localhost:8080/"
        },
        "id": "Tgrq6sAfyWDz",
        "outputId": "7113d449-860a-4fe4-af33-412eaf587b72"
      },
      "execution_count": 80,
      "outputs": [
        {
          "output_type": "stream",
          "name": "stdout",
          "text": [
            "0    Female\n",
            "1    Female\n",
            "2    Female\n",
            "3    Female\n",
            "4    Female\n",
            "Name: Gender, dtype: object\n",
            "0    0\n",
            "1    0\n",
            "2    0\n",
            "3    0\n",
            "4    0\n",
            "Name: Gender, dtype: int64\n"
          ]
        }
      ]
    },
    {
      "cell_type": "markdown",
      "source": [
        "## Time format"
      ],
      "metadata": {
        "id": "xKtgXgjuz0Ih"
      }
    },
    {
      "cell_type": "code",
      "source": [
        "import pandas as pd\n",
        "import numpy as np\n",
        "from datetime import datetime, timedelta\n",
        "\n",
        "current_time = datetime.now()\n",
        "\n",
        "time_data = pd.DataFrame({\n",
        "    'PurchaseTime': [current_time - timedelta(days=i) for i in range(5)],\n",
        "    'DeliveryTime': [current_time + timedelta(days=i) for i in range(5)]\n",
        "})\n",
        "print(\"Original Data:\\n\", time_data)\n"
      ],
      "metadata": {
        "colab": {
          "base_uri": "https://localhost:8080/"
        },
        "id": "prZTWsdIzz58",
        "outputId": "b910a239-85b4-479b-f608-287ca6084951"
      },
      "execution_count": 81,
      "outputs": [
        {
          "output_type": "stream",
          "name": "stdout",
          "text": [
            "Original Data:\n",
            "                 PurchaseTime               DeliveryTime\n",
            "0 2024-07-03 13:43:24.294414 2024-07-03 13:43:24.294414\n",
            "1 2024-07-02 13:43:24.294414 2024-07-04 13:43:24.294414\n",
            "2 2024-07-01 13:43:24.294414 2024-07-05 13:43:24.294414\n",
            "3 2024-06-30 13:43:24.294414 2024-07-06 13:43:24.294414\n",
            "4 2024-06-29 13:43:24.294414 2024-07-07 13:43:24.294414\n"
          ]
        }
      ]
    },
    {
      "cell_type": "code",
      "source": [
        "# 시간 데이터를 datetime 형식으로 변환 (이미 datetime)\n",
        "time_data['PurchaseTime'] = pd.to_datetime(time_data['PurchaseTime'])\n",
        "time_data['DeliveryTime'] = pd.to_datetime(time_data['DeliveryTime'])\n",
        "\n",
        "# 시간 컴포넌트 추출\n",
        "time_data['PurchaseYear'] = time_data['PurchaseTime'].dt.year\n",
        "time_data['PurchaseMonth'] = time_data['PurchaseTime'].dt.month\n",
        "time_data['PurchaseDay'] = time_data['PurchaseTime'].dt.day\n",
        "time_data['PurchaseHour'] = time_data['PurchaseTime'].dt.hour\n",
        "time_data['PurchaseMinute'] = time_data['PurchaseTime'].dt.minute\n",
        "time_data['PurchaseSecond'] = time_data['PurchaseTime'].dt.second\n",
        "\n",
        "# 시간 차이 계산\n",
        "time_data['DeliveryDays'] = (time_data['DeliveryTime'] - time_data['PurchaseTime']).dt.days\n",
        "\n",
        "print(\"\\nData after extracting components and calculating differences:\\n\", time_data)"
      ],
      "metadata": {
        "colab": {
          "base_uri": "https://localhost:8080/"
        },
        "id": "7Z20kZFuggpE",
        "outputId": "9b883428-e565-4ec3-888e-064b1da0f2e6"
      },
      "execution_count": 82,
      "outputs": [
        {
          "output_type": "stream",
          "name": "stdout",
          "text": [
            "\n",
            "Data after extracting components and calculating differences:\n",
            "                 PurchaseTime               DeliveryTime  PurchaseYear  \\\n",
            "0 2024-07-03 13:43:24.294414 2024-07-03 13:43:24.294414          2024   \n",
            "1 2024-07-02 13:43:24.294414 2024-07-04 13:43:24.294414          2024   \n",
            "2 2024-07-01 13:43:24.294414 2024-07-05 13:43:24.294414          2024   \n",
            "3 2024-06-30 13:43:24.294414 2024-07-06 13:43:24.294414          2024   \n",
            "4 2024-06-29 13:43:24.294414 2024-07-07 13:43:24.294414          2024   \n",
            "\n",
            "   PurchaseMonth  PurchaseDay  PurchaseHour  PurchaseMinute  PurchaseSecond  \\\n",
            "0              7            3            13              43              24   \n",
            "1              7            2            13              43              24   \n",
            "2              7            1            13              43              24   \n",
            "3              6           30            13              43              24   \n",
            "4              6           29            13              43              24   \n",
            "\n",
            "   DeliveryDays  \n",
            "0             0  \n",
            "1             2  \n",
            "2             4  \n",
            "3             6  \n",
            "4             8  \n"
          ]
        }
      ]
    },
    {
      "cell_type": "markdown",
      "source": [
        "## Data Scaling\n",
        "`scaler = StandardScaler()`\n"
      ],
      "metadata": {
        "id": "iE7fxTBv00Dq"
      }
    },
    {
      "cell_type": "code",
      "source": [
        "from sklearn.preprocessing import StandardScaler # standardize\n",
        "print(\"Data before scaling:\\n\", data[['Age', 'AnnualIncome']].head())\n",
        "\n",
        "scaler = StandardScaler()\n",
        "data[['Age', 'AnnualIncome']] = scaler.fit_transform(data[['Age', 'AnnualIncome']])\n",
        "\n",
        "print(\"Data after scaling:\\n\", data[['Age', 'AnnualIncome']].head())"
      ],
      "metadata": {
        "colab": {
          "base_uri": "https://localhost:8080/"
        },
        "id": "YJCW1ap0yQTl",
        "outputId": "0b80ad88-d8f9-4a72-d197-3cec55bf9ba7"
      },
      "execution_count": 86,
      "outputs": [
        {
          "output_type": "stream",
          "name": "stdout",
          "text": [
            "Data before scaling:\n",
            "    Age   AnnualIncome\n",
            "0   40   66120.267939\n",
            "1   20   23579.773583\n",
            "2   27  127821.306432\n",
            "3   24  137798.623120\n",
            "4   31   99300.964220\n",
            "Data after scaling:\n",
            "         Age  AnnualIncome\n",
            "0 -0.276761     -0.481934\n",
            "1 -1.564418     -1.612821\n",
            "2 -1.113738      1.158311\n",
            "3 -1.306887      1.423546\n",
            "4 -0.856207      0.400133\n"
          ]
        }
      ]
    },
    {
      "cell_type": "code",
      "source": [
        "print(\"Original Table:\\n\", data.head())\n",
        "pivot_table = data.pivot_table(values='AnnualIncome', index='ProductCategory', columns='PurchaseStatus', aggfunc='mean')\n",
        "print(\"Pivot table:\\n\", pivot_table.head())"
      ],
      "metadata": {
        "colab": {
          "base_uri": "https://localhost:8080/"
        },
        "id": "j9bttA-_14-E",
        "outputId": "59e36d93-4624-42aa-a8db-36c85b159532"
      },
      "execution_count": 90,
      "outputs": [
        {
          "output_type": "stream",
          "name": "stdout",
          "text": [
            "Original Table:\n",
            "         Age  Gender  AnnualIncome  NumberOfPurchases  ProductCategory  \\\n",
            "0 -0.276761       1     -0.481934                  8                0   \n",
            "1 -1.564418       1     -1.612821                  4                2   \n",
            "2 -1.113738       1      1.158311                 11                2   \n",
            "3 -1.306887       1      1.423546                 19                3   \n",
            "4 -0.856207       1      0.400133                 19                1   \n",
            "\n",
            "   TimeSpentOnWebsite  LoyaltyProgram  DiscountsAvailed  PurchaseStatus  \n",
            "0           30.568601               0                 5               1  \n",
            "1           38.240097               0                 5               0  \n",
            "2           31.633212               1                 0               1  \n",
            "3           46.167059               0                 4               1  \n",
            "4           19.823592               0                 0               1  \n",
            "Pivot table:\n",
            " PurchaseStatus          0         1\n",
            "ProductCategory                    \n",
            "0               -0.176827  0.244683\n",
            "1               -0.258843  0.114289\n",
            "2               -0.050934  0.210538\n",
            "3               -0.227139  0.228702\n",
            "4               -0.104131  0.295883\n"
          ]
        }
      ]
    },
    {
      "cell_type": "markdown",
      "source": [
        "## Data Merge"
      ],
      "metadata": {
        "id": "-6aC4vpM7ENk"
      }
    },
    {
      "cell_type": "code",
      "source": [
        "data_1 = data[['Age', 'PurchaseStatus', 'AnnualIncome']]\n",
        "print(\"Original data_1:\\n\", data_1.head())\n",
        "data_2 = data[['Gender', 'AnnualIncome']]\n",
        "print(\"Original data_2:\\n\", data_2.head())\n",
        "merged_data = pd.merge(data_1, data_2, on='AnnualIncome')"
      ],
      "metadata": {
        "colab": {
          "base_uri": "https://localhost:8080/"
        },
        "id": "PPQYjGxa7D-2",
        "outputId": "cf51989d-2b76-4a57-cdac-50272f7cc766"
      },
      "execution_count": 94,
      "outputs": [
        {
          "output_type": "stream",
          "name": "stdout",
          "text": [
            "Original data_1:\n",
            "         Age  PurchaseStatus  AnnualIncome\n",
            "0 -0.276761               1     -0.481934\n",
            "1 -1.564418               0     -1.612821\n",
            "2 -1.113738               1      1.158311\n",
            "3 -1.306887               1      1.423546\n",
            "4 -0.856207               1      0.400133\n",
            "Original data_2:\n",
            "    Gender  AnnualIncome\n",
            "0       1     -0.481934\n",
            "1       1     -1.612821\n",
            "2       1      1.158311\n",
            "3       1      1.423546\n",
            "4       1      0.400133\n"
          ]
        }
      ]
    },
    {
      "cell_type": "code",
      "source": [
        "print(\"Merged data: \\n\", merged_data.head())"
      ],
      "metadata": {
        "colab": {
          "base_uri": "https://localhost:8080/"
        },
        "id": "HyzLl1Qr18Oz",
        "outputId": "799d0cf9-6305-4585-d4a5-d26a3750972f"
      },
      "execution_count": 95,
      "outputs": [
        {
          "output_type": "stream",
          "name": "stdout",
          "text": [
            "Merged data: \n",
            "         Age  PurchaseStatus  AnnualIncome  Gender\n",
            "0 -0.276761               1     -0.481934       1\n",
            "1 -1.564418               0     -1.612821       1\n",
            "2 -1.113738               1      1.158311       1\n",
            "3 -1.306887               1      1.423546       1\n",
            "4 -0.856207               1      0.400133       1\n"
          ]
        }
      ]
    },
    {
      "cell_type": "code",
      "source": [
        "# Categorization\n",
        "grouped_data = data.groupby('Gender').agg({'AnnualIncome': 'mean', 'Age': 'mean'})\n",
        "print(\"Grouped data:\\n\", grouped_data)"
      ],
      "metadata": {
        "colab": {
          "base_uri": "https://localhost:8080/"
        },
        "id": "GhBO2CdA8YlS",
        "outputId": "a9f1abfa-da00-4d95-da3d-ebfbf72634b0"
      },
      "execution_count": 96,
      "outputs": [
        {
          "output_type": "stream",
          "name": "stdout",
          "text": [
            "Grouped data:\n",
            "         AnnualIncome       Age\n",
            "Gender                        \n",
            "0          -0.010148 -0.022262\n",
            "1           0.009960  0.021850\n"
          ]
        }
      ]
    },
    {
      "cell_type": "code",
      "source": [
        "# Derived Variables\n",
        "data['AgeGroup'] = pd.cut(data['Age'], bins=[0, 18, 35, 50, 100], labels=['Child', 'Young Adult', 'Adult', 'Senior'])\n",
        "print(\"Data with AgeGroup:\\n\", data[['Age', 'AgeGroup']].head())"
      ],
      "metadata": {
        "colab": {
          "base_uri": "https://localhost:8080/"
        },
        "id": "NIBSJc128sn-",
        "outputId": "33542d7b-03a4-4fdf-e35a-556efd852a4b"
      },
      "execution_count": 99,
      "outputs": [
        {
          "output_type": "stream",
          "name": "stdout",
          "text": [
            "Data with AgeGroup:\n",
            "    Age     AgeGroup\n",
            "0   40        Adult\n",
            "1   20  Young Adult\n",
            "2   27  Young Adult\n",
            "3   24  Young Adult\n",
            "4   31  Young Adult\n"
          ]
        }
      ]
    },
    {
      "cell_type": "code",
      "source": [
        "# Data Sampling\n",
        "sampled_data = data.sample(frac=0.1, random_state=42)\n",
        "print(\"Sampled data:\\n\", sampled_data.head())\n",
        "print(\"*\"*30)\n",
        "print(\"Sampled data info:\\n\", sampled_data.info())"
      ],
      "metadata": {
        "colab": {
          "base_uri": "https://localhost:8080/"
        },
        "id": "RIxRu-wv8xnm",
        "outputId": "3c5a9b8e-e6d1-4bda-b022-f15c94c60331"
      },
      "execution_count": 100,
      "outputs": [
        {
          "output_type": "stream",
          "name": "stdout",
          "text": [
            "Sampled data:\n",
            "       Age  Gender  AnnualIncome  NumberOfPurchases  ProductCategory  \\\n",
            "1116   42       1  68609.736112                 12                3   \n",
            "1368   63       0  85623.427780                 18                0   \n",
            "422    22       1  51251.858676                  4                1   \n",
            "413    39       1  32791.434463                 18                2   \n",
            "451    39       1  75573.659430                 12                4   \n",
            "\n",
            "      TimeSpentOnWebsite  LoyaltyProgram  DiscountsAvailed  PurchaseStatus  \\\n",
            "1116           23.396362               1                 5               1   \n",
            "1368           11.657565               0                 1               0   \n",
            "422            46.090844               0                 0               0   \n",
            "413             1.137081               0                 1               0   \n",
            "451            49.085904               1                 3               1   \n",
            "\n",
            "         AgeGroup  \n",
            "1116        Adult  \n",
            "1368       Senior  \n",
            "422   Young Adult  \n",
            "413         Adult  \n",
            "451         Adult  \n",
            "******************************\n",
            "<class 'pandas.core.frame.DataFrame'>\n",
            "Index: 150 entries, 1116 to 782\n",
            "Data columns (total 10 columns):\n",
            " #   Column              Non-Null Count  Dtype   \n",
            "---  ------              --------------  -----   \n",
            " 0   Age                 150 non-null    int64   \n",
            " 1   Gender              150 non-null    int64   \n",
            " 2   AnnualIncome        150 non-null    float64 \n",
            " 3   NumberOfPurchases   150 non-null    int64   \n",
            " 4   ProductCategory     150 non-null    int64   \n",
            " 5   TimeSpentOnWebsite  150 non-null    float64 \n",
            " 6   LoyaltyProgram      150 non-null    int64   \n",
            " 7   DiscountsAvailed    150 non-null    int64   \n",
            " 8   PurchaseStatus      150 non-null    int64   \n",
            " 9   AgeGroup            150 non-null    category\n",
            "dtypes: category(1), float64(2), int64(7)\n",
            "memory usage: 12.1 KB\n",
            "Sampled data info:\n",
            " None\n"
          ]
        }
      ]
    },
    {
      "cell_type": "code",
      "source": [
        "# PCA (주성분 분석)\n",
        "from sklearn.decomposition import PCA\n",
        "\n",
        "# PCA 적용\n",
        "pca = PCA(n_components=2)\n",
        "pca_result = pca.fit_transform(data[['Age', 'AnnualIncome', 'NumberOfPurchases']])\n",
        "\n",
        "# 결과를 데이터프레임으로 변환\n",
        "pca_df = pd.DataFrame(pca_result, columns=['PC1', 'PC2'])\n",
        "\n",
        "print(\"PCA Result:\\n\", pca_df.head())"
      ],
      "metadata": {
        "colab": {
          "base_uri": "https://localhost:8080/"
        },
        "id": "mEN5CpC09Euo",
        "outputId": "26d0387f-7e24-42cc-d032-e27ba88018b8"
      },
      "execution_count": 101,
      "outputs": [
        {
          "output_type": "stream",
          "name": "stdout",
          "text": [
            "PCA Result:\n",
            "             PC1        PC2\n",
            "0 -18128.896428   4.133498\n",
            "1 -60669.390919  23.773262\n",
            "2  43572.141975  17.601737\n",
            "3  53549.458643  20.806253\n",
            "4  15051.799792  13.546052\n"
          ]
        }
      ]
    },
    {
      "cell_type": "markdown",
      "source": [
        "## Data Preprocessing Pipeline"
      ],
      "metadata": {
        "id": "xxE2B3mG9STh"
      }
    },
    {
      "cell_type": "code",
      "source": [
        "# pipeline import setting\n",
        "from sklearn.pipeline import Pipeline\n",
        "from sklearn.impute import SimpleImputer\n",
        "from sklearn.preprocessing import StandardScaler\n",
        "\n",
        "data_1 = data[['Age', 'AnnualIncome', 'NumberOfPurchases']]\n",
        "\n",
        "#pipeline\n",
        "pipeline = Pipeline([\n",
        "    ('imputer', SimpleImputer(strategy='mean')),\n",
        "    ('scaler', StandardScaler())\n",
        "])\n",
        "\n",
        "# Data transform\n",
        "processed_data = pipeline.fit_transform(data_1)\n",
        "processed_data_df = pd.DataFrame(processed_data, columns=['Age', 'AnnualIncome', 'NumberOfPurchases'])\n",
        "print(\"Processed Data:\\n\", processed_data_df.head())"
      ],
      "metadata": {
        "colab": {
          "base_uri": "https://localhost:8080/"
        },
        "id": "GMRaAiMB9Noq",
        "outputId": "f54e0c45-8b04-4c49-c19b-e7d810a30646"
      },
      "execution_count": 103,
      "outputs": [
        {
          "output_type": "stream",
          "name": "stdout",
          "text": [
            "Processed Data:\n",
            "         Age  AnnualIncome  NumberOfPurchases\n",
            "0 -0.276761     -0.481934          -0.411185\n",
            "1 -1.564418     -1.612821          -1.090830\n",
            "2 -1.113738      1.158311           0.098548\n",
            "3 -1.306887      1.423546           1.457838\n",
            "4 -0.856207      0.400133           1.457838\n"
          ]
        }
      ]
    },
    {
      "cell_type": "code",
      "source": [],
      "metadata": {
        "id": "k1CIWsYHGPG1"
      },
      "execution_count": null,
      "outputs": []
    }
  ]
}