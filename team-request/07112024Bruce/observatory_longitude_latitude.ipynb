{
  "nbformat": 4,
  "nbformat_minor": 0,
  "metadata": {
    "colab": {
      "provenance": []
    },
    "kernelspec": {
      "name": "python3",
      "display_name": "Python 3"
    },
    "language_info": {
      "name": "python"
    }
  },
  "cells": [
    {
      "cell_type": "code",
      "execution_count": 197,
      "metadata": {
        "colab": {
          "base_uri": "https://localhost:8080/"
        },
        "id": "IOMwpLNSTtV6",
        "outputId": "881d2bd1-ef51-4de9-96ad-98931a35811b"
      },
      "outputs": [
        {
          "output_type": "stream",
          "name": "stdout",
          "text": [
            "Drive already mounted at /content/drive; to attempt to forcibly remount, call drive.mount(\"/content/drive\", force_remount=True).\n"
          ]
        }
      ],
      "source": [
        "from google.colab import drive\n",
        "import os\n",
        "drive.mount('/content/drive')\n"
      ]
    },
    {
      "cell_type": "code",
      "source": [
        "# requests\n",
        "import requests\n",
        "# datetime\n",
        "from datetime import datetime, timedelta\n",
        "# time - pause crawling for 0.5 sec\n",
        "import time\n",
        "# Userdata for secret key\n",
        "from google.colab import userdata\n",
        "# pandas\n",
        "import pandas as pd\n",
        "# moving files between dirs\n",
        "import shutil\n",
        "# numpy\n",
        "import numpy as np\n",
        "import unicodedata"
      ],
      "metadata": {
        "id": "pKv6plJfUfz6"
      },
      "execution_count": 198,
      "outputs": []
    },
    {
      "cell_type": "code",
      "source": [
        "directory_path = '/content/drive/MyDrive/CSVs/JejuWeather'\n",
        "csv_files_names = [f for f in os.listdir(directory_path) if f.endswith('.csv')]\n",
        "project_key = userdata.get('jejuObsKey')\n",
        "base_url = f\"https://open.jejudatahub.net/api/proxy/t1bab75a555a15715btaa7a5abaa1aab/{project_key}\"\n",
        "\n",
        "columns = ['observatoryName', 'longitude', 'latitude']\n",
        "\n",
        "directory_path = directory_path + '/observatory longitude latitude/'\n",
        "if not os.path.exists(directory_path):\n",
        "  os.makedirs(directory_path)\n",
        "\n",
        "for obs_name in csv_files_names:\n",
        "  no_csv = unicodedata.normalize('NFC', obs_name[:-4])\n",
        "  response = requests.get(base_url, params={'observatoryName': no_csv})\n",
        "  if response.status_code == 200:\n",
        "    data_json = response.json()['data'][0]\n",
        "    new_df = pd.DataFrame(columns=columns)\n",
        "    new_df.loc[0] = [data_json['observatoryName'], data_json['longitude'], data_json['latitude']]\n",
        "    file_path = os.path.join(directory_path, 'obsLongitudeLatitude.csv')\n",
        "    if os.path.exists(file_path):\n",
        "      df = pd.read_csv(file_path)\n",
        "      df = pd.concat([df, new_df], ignore_index= True)\n",
        "      df.to_csv(file_path, index=False)\n",
        "    else:\n",
        "      df.to_csv(file_path, index=False)"
      ],
      "metadata": {
        "id": "BXhMtQGCUza3"
      },
      "execution_count": 205,
      "outputs": []
    }
  ]
}